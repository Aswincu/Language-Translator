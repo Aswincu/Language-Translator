{
 "cells": [
  {
   "cell_type": "code",
   "execution_count": 2,
   "id": "a149812e",
   "metadata": {},
   "outputs": [],
   "source": [
    "#import required libraries\n",
    "import googletrans"
   ]
  },
  {
   "cell_type": "code",
   "execution_count": 3,
   "id": "d5015b53",
   "metadata": {},
   "outputs": [],
   "source": [
    "import speech_recognition as sr"
   ]
  },
  {
   "cell_type": "code",
   "execution_count": 4,
   "id": "3582e81a",
   "metadata": {},
   "outputs": [],
   "source": [
    "import pyttsx3"
   ]
  },
  {
   "cell_type": "code",
   "execution_count": 7,
   "id": "a8986680",
   "metadata": {},
   "outputs": [],
   "source": [
    "engine=pyttsx3.init()\n",
    "recognizer=sr.Recognizer()"
   ]
  },
  {
   "cell_type": "code",
   "execution_count": 9,
   "id": "4a28592f",
   "metadata": {},
   "outputs": [],
   "source": [
    "import pyaudio"
   ]
  },
  {
   "cell_type": "code",
   "execution_count": 10,
   "id": "9d6629e4",
   "metadata": {},
   "outputs": [
    {
     "name": "stdout",
     "output_type": "stream",
     "text": [
      "Wait for Processing.....\n",
      "Start Speaking...\n",
      "Recorded Successfully\n",
      "hello hello hello\n"
     ]
    }
   ],
   "source": [
    "with sr.Microphone() as source:\n",
    "    print(\"Wait for Processing.....\")\n",
    "    recognizer.adjust_for_ambient_noise(source,1)\n",
    "    print(\"Start Speaking...\")\n",
    "    audio=recognizer.listen(source)\n",
    "    print(\"Recorded Successfully\")\n",
    "    speech=recognizer.recognize_google(audio)\n",
    "    speech=speech.lower()\n",
    "    print(speech)"
   ]
  },
  {
   "cell_type": "code",
   "execution_count": 11,
   "id": "6e3fa193",
   "metadata": {},
   "outputs": [
    {
     "name": "stdout",
     "output_type": "stream",
     "text": [
      "Translating....\n",
      "googletrans.LANGCODES\n",
      "Type the language code to be translated:malayalam\n",
      "Translation: ഹലോ ഹലോ ഹലോ\n"
     ]
    }
   ],
   "source": [
    "def trans():\n",
    "    print(\"Translating....\")\n",
    "    print(\"googletrans.LANGCODES\")\n",
    "    language=input(\"Type the language code to be translated:\").lower()\n",
    "    translator=googletrans.Translator()\n",
    "    translation=translator.translate(text=speech,dest=language)\n",
    "    print(\"Translation:\",translation.text)\n",
    "    engine.setProperty(\"rate\",120)\n",
    "    engine.say(translation.pronunciation)\n",
    "    engine.runAndWait()\n",
    "trans()"
   ]
  },
  {
   "cell_type": "code",
   "execution_count": 12,
   "id": "0cdafb3c",
   "metadata": {},
   "outputs": [
    {
     "name": "stdout",
     "output_type": "stream",
     "text": [
      "Translating....\n",
      "googletrans.LANGCODES\n",
      "Type the language code to be translated:fr\n",
      "Translation: Bonjour bonjour bonjour\n"
     ]
    }
   ],
   "source": [
    "trans()"
   ]
  },
  {
   "cell_type": "code",
   "execution_count": 13,
   "id": "f595118f",
   "metadata": {},
   "outputs": [
    {
     "name": "stdout",
     "output_type": "stream",
     "text": [
      "Translating....\n",
      "googletrans.LANGCODES\n",
      "Type the language code to be translated:ml\n",
      "Translation: ഹലോ ഹലോ ഹലോ\n"
     ]
    }
   ],
   "source": [
    "trans()"
   ]
  },
  {
   "cell_type": "code",
   "execution_count": 15,
   "id": "00fad8d0",
   "metadata": {},
   "outputs": [],
   "source": [
    "from langdetect import detect"
   ]
  },
  {
   "cell_type": "code",
   "execution_count": 21,
   "id": "4d6bf273",
   "metadata": {},
   "outputs": [
    {
     "name": "stdout",
     "output_type": "stream",
     "text": [
      "Enter the Sentence to be translated:Don't worry\n",
      "en\n"
     ]
    }
   ],
   "source": [
    "sentence=input(str(\"Enter the Sentence to be translated:\"))\n",
    "print(detect(sentence))"
   ]
  },
  {
   "cell_type": "code",
   "execution_count": 22,
   "id": "c249db17",
   "metadata": {},
   "outputs": [
    {
     "name": "stdout",
     "output_type": "stream",
     "text": [
      "{'afrikaans': 'af', 'albanian': 'sq', 'amharic': 'am', 'arabic': 'ar', 'armenian': 'hy', 'azerbaijani': 'az', 'basque': 'eu', 'belarusian': 'be', 'bengali': 'bn', 'bosnian': 'bs', 'bulgarian': 'bg', 'catalan': 'ca', 'cebuano': 'ceb', 'chichewa': 'ny', 'chinese (simplified)': 'zh-cn', 'chinese (traditional)': 'zh-tw', 'corsican': 'co', 'croatian': 'hr', 'czech': 'cs', 'danish': 'da', 'dutch': 'nl', 'english': 'en', 'esperanto': 'eo', 'estonian': 'et', 'filipino': 'tl', 'finnish': 'fi', 'french': 'fr', 'frisian': 'fy', 'galician': 'gl', 'georgian': 'ka', 'german': 'de', 'greek': 'el', 'gujarati': 'gu', 'haitian creole': 'ht', 'hausa': 'ha', 'hawaiian': 'haw', 'hebrew': 'he', 'hindi': 'hi', 'hmong': 'hmn', 'hungarian': 'hu', 'icelandic': 'is', 'igbo': 'ig', 'indonesian': 'id', 'irish': 'ga', 'italian': 'it', 'japanese': 'ja', 'javanese': 'jw', 'kannada': 'kn', 'kazakh': 'kk', 'khmer': 'km', 'korean': 'ko', 'kurdish (kurmanji)': 'ku', 'kyrgyz': 'ky', 'lao': 'lo', 'latin': 'la', 'latvian': 'lv', 'lithuanian': 'lt', 'luxembourgish': 'lb', 'macedonian': 'mk', 'malagasy': 'mg', 'malay': 'ms', 'malayalam': 'ml', 'maltese': 'mt', 'maori': 'mi', 'marathi': 'mr', 'mongolian': 'mn', 'myanmar (burmese)': 'my', 'nepali': 'ne', 'norwegian': 'no', 'odia': 'or', 'pashto': 'ps', 'persian': 'fa', 'polish': 'pl', 'portuguese': 'pt', 'punjabi': 'pa', 'romanian': 'ro', 'russian': 'ru', 'samoan': 'sm', 'scots gaelic': 'gd', 'serbian': 'sr', 'sesotho': 'st', 'shona': 'sn', 'sindhi': 'sd', 'sinhala': 'si', 'slovak': 'sk', 'slovenian': 'sl', 'somali': 'so', 'spanish': 'es', 'sundanese': 'su', 'swahili': 'sw', 'swedish': 'sv', 'tajik': 'tg', 'tamil': 'ta', 'telugu': 'te', 'thai': 'th', 'turkish': 'tr', 'ukrainian': 'uk', 'urdu': 'ur', 'uyghur': 'ug', 'uzbek': 'uz', 'vietnamese': 'vi', 'welsh': 'cy', 'xhosa': 'xh', 'yiddish': 'yi', 'yoruba': 'yo', 'zulu': 'zu'}\n"
     ]
    }
   ],
   "source": [
    "print(googletrans.LANGCODES)"
   ]
  },
  {
   "cell_type": "code",
   "execution_count": 23,
   "id": "c3aa9440",
   "metadata": {},
   "outputs": [
    {
     "name": "stdout",
     "output_type": "stream",
     "text": [
      "Enter the translation language code:ml\n"
     ]
    }
   ],
   "source": [
    "language=input(\"Enter the translation language code:\").lower()"
   ]
  },
  {
   "cell_type": "code",
   "execution_count": 24,
   "id": "b7fe5777",
   "metadata": {},
   "outputs": [
    {
     "name": "stdout",
     "output_type": "stream",
     "text": [
      "Translation: വിഷമിക്കേണ്ട\n",
      "ml\n"
     ]
    }
   ],
   "source": [
    "translator=googletrans.Translator()\n",
    "translation=translator.translate(text=sentence,dest=language)\n",
    "print(\"Translation:\",translation.text)\n",
    "print(detect(translation.text))"
   ]
  },
  {
   "cell_type": "code",
   "execution_count": null,
   "id": "760e3112",
   "metadata": {},
   "outputs": [],
   "source": []
  },
  {
   "cell_type": "raw",
   "id": "d4d6c16d",
   "metadata": {},
   "source": []
  }
 ],
 "metadata": {
  "kernelspec": {
   "display_name": "Python 3",
   "language": "python",
   "name": "python3"
  },
  "language_info": {
   "codemirror_mode": {
    "name": "ipython",
    "version": 3
   },
   "file_extension": ".py",
   "mimetype": "text/x-python",
   "name": "python",
   "nbconvert_exporter": "python",
   "pygments_lexer": "ipython3",
   "version": "3.8.8"
  }
 },
 "nbformat": 4,
 "nbformat_minor": 5
}
